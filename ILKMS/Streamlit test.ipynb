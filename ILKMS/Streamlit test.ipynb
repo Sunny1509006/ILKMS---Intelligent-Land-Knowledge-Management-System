{
 "cells": [
  {
   "cell_type": "code",
   "execution_count": 5,
   "id": "645f4a38",
   "metadata": {},
   "outputs": [],
   "source": [
    "import streamlit as st\n",
    "import pandas as pd\n",
    "\n",
    "st.write(\"Here's our first attempt at using data to create a table:\")\n",
    "st.write(pd.DataFrame({\n",
    "    'first column': [1, 2, 3, 4],\n",
    "    'second column': [10, 20, 30, 40]\n",
    "}))"
   ]
  },
  {
   "cell_type": "code",
   "execution_count": null,
   "id": "7c7eb0f7",
   "metadata": {},
   "outputs": [],
   "source": [
    "#message = st.text_input(\"\")\n",
    "key = 0\n",
    "while True:\n",
    "    key = key+1\n",
    "    message = st.text_input(\"Enter your question here...\", key= key)\n",
    "    ints = predict_class(message)\n",
    "    #print(ints)\n",
    "    res = get_response(ints, intents)\n",
    "    if res == None:\n",
    "        print(\"Can you try by something else!!\")\n",
    "    else:\n",
    "            #print(res)\n",
    "        st.write(res)\n"
   ]
  }
 ],
 "metadata": {
  "kernelspec": {
   "display_name": "Python 3 (ipykernel)",
   "language": "python",
   "name": "python3"
  },
  "language_info": {
   "codemirror_mode": {
    "name": "ipython",
    "version": 3
   },
   "file_extension": ".py",
   "mimetype": "text/x-python",
   "name": "python",
   "nbconvert_exporter": "python",
   "pygments_lexer": "ipython3",
   "version": "3.10.4"
  }
 },
 "nbformat": 4,
 "nbformat_minor": 5
}
