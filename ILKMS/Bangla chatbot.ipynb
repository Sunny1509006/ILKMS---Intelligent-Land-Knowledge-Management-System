{
 "cells": [
  {
   "cell_type": "code",
   "execution_count": 6,
   "id": "c1ec1db3",
   "metadata": {},
   "outputs": [
    {
     "name": "stdout",
     "output_type": "stream",
     "text": [
      "Vowels: ['অ', 'আ', 'ই', 'ঈ', 'উ', 'ঊ', 'ঋ', 'ঌ', 'এ', 'ঐ', 'ও', 'ঔ']\n",
      "Vowel signs: ['া', 'ি', 'ী', 'ু', 'ূ', 'ৃ', 'ৄ', 'ে', 'ৈ', 'ো', 'ৌ']\n",
      "Consonants: ['ক', 'খ', 'গ', 'ঘ', 'ঙ', 'চ', 'ছ', 'জ', 'ঝ', 'ঞ', 'ট', 'ঠ', 'ড', 'ঢ', 'ণ', 'ত', 'থ', 'দ', 'ধ', 'ন', 'প', 'ফ', 'ব', 'ভ', 'ম', 'য', 'র', 'ল', 'শ', 'ষ', 'স', 'হ', 'ড়', 'ঢ়', 'য়', 'ৎ', 'ং', 'ঃ', 'ঁ']\n",
      "Digits: ['০', '১', '২', '৩', '৪', '৫', '৬', '৭', '৮', '৯']\n",
      "Operators: ['=', '+', '-', '*', '/', '%', '<', '>', '×', '÷']\n",
      "Punctuation marks: ['।', ',', ';', ':', '?', '!', \"'\", '.', '\"', '-', '[', ']', '{', '}', '(', ')', '–', '—', '―', '~']\n",
      "Others: ['৳', '৺', '্', 'ঀ', 'ঽ', '#', '$']\n"
     ]
    }
   ],
   "source": [
    "from bltk.langtools.banglachars import (vowels,\n",
    "                                        vowel_signs,\n",
    "                                        consonants,\n",
    "                                        digits,\n",
    "                                        operators,\n",
    "                                        punctuations,\n",
    "                                        others)\n",
    "print(f'Vowels: {vowels}')\n",
    "print(f'Vowel signs: {vowel_signs}')\n",
    "print(f'Consonants: {consonants}')\n",
    "print(f'Digits: {digits}')\n",
    "print(f'Operators: {operators}')\n",
    "print(f'Punctuation marks: {punctuations}')\n",
    "print(f'Others: {others}')"
   ]
  },
  {
   "cell_type": "code",
   "execution_count": null,
   "id": "bc96b297",
   "metadata": {},
   "outputs": [],
   "source": [
    "import base64\n",
    "def get_base64(bin_file):\n",
    "    with open(bin_file, 'rb') as f:\n",
    "        data = f.read()\n",
    "    return base64.b64encode(data).decode()\n",
    "def set_background(png_file):\n",
    "    bin_str = get_base64(png_file)\n",
    "    page_bg_img = '''\n",
    "    <style>\n",
    "    .stApp {\n",
    "    background-image: url(\"data:image/png;base64,%s\");\n",
    "    background-size: cover;\n",
    "    }\n",
    "    </style>\n",
    "    ''' % bin_str\n",
    "    st.markdown(page_bg_img, unsafe_allow_html=True)\n",
    "set_background('./Dream71 logo.png')\n"
   ]
  },
  {
   "cell_type": "code",
   "execution_count": 17,
   "id": "31e5881f",
   "metadata": {},
   "outputs": [
    {
     "name": "stdout",
     "output_type": "stream",
     "text": [
      "{'intents': [{'tag': 'শুভেচ্ছা', 'patterns': ['ওহে', 'কেমন আছো?', 'ওখানে কেউ আছো?', 'হায়', 'শুভ দিন'], 'response': ['হায়, স্বাগতম আপনাকে', 'আপনাকে দেখে ভালো লাগলো', 'কিভাবে সাহায্য করতে পারি আপনাকে?']}]}\n"
     ]
    }
   ],
   "source": [
    "import json\n",
    "intents = json.loads(open('intents_banglish.json', 'r', encoding='utf-8').read())\n",
    "#with open(\"intents_bangla.json\", \"r\", encoding = 'utf-8') as read_it:\n",
    "    #intents = json.load(read_it)\n",
    "print(intents)"
   ]
  },
  {
   "cell_type": "code",
   "execution_count": null,
   "id": "ee5bf08e",
   "metadata": {},
   "outputs": [],
   "source": [
    "import pandas as pd\n"
   ]
  }
 ],
 "metadata": {
  "kernelspec": {
   "display_name": "Python 3 (ipykernel)",
   "language": "python",
   "name": "python3"
  },
  "language_info": {
   "codemirror_mode": {
    "name": "ipython",
    "version": 3
   },
   "file_extension": ".py",
   "mimetype": "text/x-python",
   "name": "python",
   "nbconvert_exporter": "python",
   "pygments_lexer": "ipython3",
   "version": "3.10.4"
  }
 },
 "nbformat": 4,
 "nbformat_minor": 5
}
